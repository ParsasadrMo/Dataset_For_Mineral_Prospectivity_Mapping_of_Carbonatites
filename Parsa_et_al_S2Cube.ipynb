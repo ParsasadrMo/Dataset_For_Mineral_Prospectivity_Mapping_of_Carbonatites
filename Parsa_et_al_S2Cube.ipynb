{
 "cells": [
  {
   "cell_type": "markdown",
   "id": "3ca2da51",
   "metadata": {},
   "source": [
    "# Step 1: Import the data cube "
   ]
  },
  {
   "cell_type": "code",
   "execution_count": 1,
   "id": "172feaf7",
   "metadata": {},
   "outputs": [],
   "source": [
    "import pandas as pd\n",
    "path_to_cube='Parsa et al_SupplementaryMaterial_2_.csv'\n",
    "cube = pd.read_csv(path_to_cube) #reads in the datacube "
   ]
  },
  {
   "cell_type": "markdown",
   "id": "47274dc3",
   "metadata": {},
   "source": [
    "# Step 2: approximating geographical coordinates"
   ]
  },
  {
   "cell_type": "code",
   "execution_count": 2,
   "id": "717ed5eb",
   "metadata": {},
   "outputs": [],
   "source": [
    "cube['cellid'] = cube['cellid'].str.replace('S2cellid:', '', regex=False)#removes unnecessary parts of the entry\n",
    "import s2sphere\n",
    "\n",
    "#defining a functio for approximating Easting and Northing of S2 cells in WGS 1984 CRS:\n",
    "def get_center_lat_lon(s2_cell_id):\n",
    "    cell = s2sphere.CellId.from_token(s2_cell_id)\n",
    "    lat_lng = cell.to_lat_lng()  # This directly returns an LatLng object\n",
    "    \n",
    "    return lat_lng.lat().degrees, lat_lng.lng().degrees\n",
    "\n",
    "cube['Northing'], cube['Easting'] = zip(*cube['cellid'].map(get_center_lat_lon)) # applies the above function"
   ]
  }
 ],
 "metadata": {
  "kernelspec": {
   "display_name": "Python 3 (ipykernel)",
   "language": "python",
   "name": "python3"
  },
  "language_info": {
   "codemirror_mode": {
    "name": "ipython",
    "version": 3
   },
   "file_extension": ".py",
   "mimetype": "text/x-python",
   "name": "python",
   "nbconvert_exporter": "python",
   "pygments_lexer": "ipython3",
   "version": "3.9.13"
  }
 },
 "nbformat": 4,
 "nbformat_minor": 5
}
